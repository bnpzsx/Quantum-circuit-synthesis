{
 "cells": [
  {
   "cell_type": "markdown",
   "metadata": {
    "collapsed": false
   },
   "source": [
    "## 比赛介绍\n",
    "量子电路合成是量子计算中十分重要的问题，对于实现量子计算机有指导意义。本次比赛以量子电路合成为题，旨在让参赛者了解并掌握如何使用给定量子门集合来高效的近似合成目标量子门，加深对量子计算的认识。  \n",
    "  \n",
    "详细介绍：[https://aistudio.baidu.com/aistudio/competition/detail/70](https://aistudio.baidu.com/aistudio/competition/detail/70)"
   ]
  },
  {
   "cell_type": "markdown",
   "metadata": {
    "collapsed": false
   },
   "source": [
    "## 准备环境\n",
    "- 安装量桨\n",
    "- 解压试题"
   ]
  },
  {
   "cell_type": "code",
   "execution_count": null,
   "metadata": {
    "collapsed": false
   },
   "outputs": [],
   "source": [
    "!pip install paddle-quantum"
   ]
  },
  {
   "cell_type": "code",
   "execution_count": null,
   "metadata": {
    "collapsed": false
   },
   "outputs": [],
   "source": [
    "!unzip -oq /home/aistudio/data/data71784/飞桨常规赛：量子电路合成.zip -d ~/data/\r\n",
    "!mv ~/data/飞桨常规赛：量子电路合成 ~/data/target"
   ]
  },
  {
   "cell_type": "markdown",
   "metadata": {
    "collapsed": false
   },
   "source": [
    "## 开始答题"
   ]
  },
  {
   "cell_type": "markdown",
   "metadata": {
    "collapsed": false
   },
   "source": [
    "### 解题思路  \n",
    "前三题给定电路结构，使用量桨搭建对应电路，用飞桨求解即可  \n",
    "后三题需要猜测出电路结构，再求解参数"
   ]
  },
  {
   "cell_type": "code",
   "execution_count": null,
   "metadata": {
    "collapsed": false
   },
   "outputs": [],
   "source": [
    "#导入所需包\n",
    "import numpy as np\n",
    "import paddle\n",
    "from paddle_quantum.circuit import UAnsatz\n",
    "from paddle_quantum.utils import gate_fidelity"
   ]
  },
  {
   "cell_type": "markdown",
   "metadata": {
    "collapsed": false
   },
   "source": [
    "### 基于量桨的量子电路类"
   ]
  },
  {
   "cell_type": "code",
   "execution_count": null,
   "metadata": {
    "collapsed": false
   },
   "outputs": [],
   "source": [
    "class MyCircuit(UAnsatz):\n",
    "\n",
    "    def gate_fidelity(self, target):\n",
    "        a = self.U\n",
    "        b = target\n",
    "        a = paddle.cast(a, 'float64')\n",
    "        a.stop_gradient = False\n",
    "        b = paddle.cast(b, 'float64')\n",
    "        b.stop_gradient = False\n",
    "        c = paddle.fluid.layers.matmul(a, b, transpose_y=True)\n",
    "        trace = paddle.trace(c)\n",
    "        return paddle.abs(trace) / 2**self.n\n",
    "    \n",
    "    @property\n",
    "    def complexity(self):\n",
    "        c = 0\n",
    "        for g, _, _ in self._UAnsatz__history:\n",
    "            if g == 'u':\n",
    "                c += 1\n",
    "            elif g == 'CNOT':\n",
    "                c += 8\n",
    "        return c\n",
    "    \n",
    "    def output(self, path):\n",
    "        history = []\n",
    "        for g, w, p in self._UAnsatz__history:\n",
    "            if g == 'u':\n",
    "                theta = p[0]\n",
    "                if hasattr(p[0], 'numpy'):\n",
    "                    theta = p[0].numpy()[0]                    \n",
    "                history.append('R %d %f\\n' % (w[0], np.mod(theta, 2 * np.pi)))\n",
    "            elif g == 'CNOT':\n",
    "                history.append('C %d %d\\n' % tuple(w))\n",
    "            else:\n",
    "                raise OSError('未知的门`%s`' % g)\n",
    "        with open(path, 'w') as f:\n",
    "                for i in history:\n",
    "                    f.write(i)"
   ]
  },
  {
   "cell_type": "markdown",
   "metadata": {
    "collapsed": false
   },
   "source": [
    "### 基于飞桨的自动优化器"
   ]
  },
  {
   "cell_type": "code",
   "execution_count": null,
   "metadata": {
    "collapsed": false
   },
   "outputs": [],
   "source": [
    "class Net(paddle.nn.Layer):\r\n",
    "    def __init__(self, n, p, dtype=\"float64\"):\r\n",
    "        super(Net, self).__init__()\r\n",
    "        self.n = n\r\n",
    "        self.theta = self.create_parameter(shape=[p], \r\n",
    "                                           default_initializer=paddle.nn.initializer.Uniform(low=-np.pi/2, high=np.pi/2),\r\n",
    "                                           dtype=dtype, is_bias=False)\r\n",
    "    def forward(self):\r\n",
    "        cir = circuit(self.theta)\r\n",
    "        loss = 1 - cir.gate_fidelity(target_tensor)\r\n",
    "        return loss, cir"
   ]
  },
  {
   "cell_type": "code",
   "execution_count": null,
   "metadata": {
    "collapsed": false
   },
   "outputs": [],
   "source": [
    "class Optimizer:\r\n",
    "    def __init__(self, net, learning_rate):\r\n",
    "        scheduler = paddle.optimizer.lr.CosineAnnealingDecay(learning_rate=LR, T_max=100, eta_min=1e-3, last_epoch=99, verbose=False)\r\n",
    "        opt = paddle.optimizer.Adam(learning_rate=scheduler, parameters=net.parameters())\r\n",
    "        self.net = net\r\n",
    "        self.scheduler = scheduler\r\n",
    "        self.opt = opt\r\n",
    "\r\n",
    "    def train(self, max_iters=500, log_iter=50, threshold=1e-5, display=True):\r\n",
    "        last = 1\r\n",
    "        for itr in range(1, max_iters + 1):\r\n",
    "            loss, cir = self.net()\r\n",
    "            # 计算梯度并优化\r\n",
    "            loss.backward()\r\n",
    "            self.opt.minimize(loss)\r\n",
    "            self.opt.clear_grad()\r\n",
    "            self.scheduler.step()\r\n",
    "            if itr % log_iter == 0:\r\n",
    "                l = loss.numpy()[0]\r\n",
    "                if display:\r\n",
    "                    print(\"iter:\", \"%3d\" % itr, \"  loss:\", \"%.4f\" % l, \"%.2e\" % (l - last))\r\n",
    "                if abs(l - last) < threshold:\r\n",
    "                    break\r\n",
    "                last = l\r\n",
    "        return last\r\n"
   ]
  },
  {
   "cell_type": "markdown",
   "metadata": {
    "collapsed": false
   },
   "source": [
    "### 第一题 单量子比特门近似"
   ]
  },
  {
   "cell_type": "code",
   "execution_count": null,
   "metadata": {
    "collapsed": false
   },
   "outputs": [],
   "source": [
    "n = 1\r\n",
    "target = 1 / 2**0.5 * np.array([[1, -1], [1, 1]])\r\n",
    "target_tensor = paddle.to_tensor(target)\r\n",
    "LR = 0.1\r\n",
    "ITR = 1000\r\n",
    "\r\n",
    "def circuit(theta):\r\n",
    "    # 初始化 n 个量子比特的量子电路\r\n",
    "    cir = MyCircuit(n)\r\n",
    "    cir.ry(theta[0], 0)\r\n",
    "    return cir"
   ]
  },
  {
   "cell_type": "code",
   "execution_count": null,
   "metadata": {
    "collapsed": false
   },
   "outputs": [],
   "source": [
    "net = Net(n, 1)\r\n",
    "opt = Optimizer(net, LR)\r\n",
    "opt.train(ITR, threshold=1e-15)\r\n",
    "\r\n",
    "theta_opt = net.theta.numpy()\r\n",
    "print(\"优化后的参数 theta:\\n\", theta_opt)\r\n",
    "\r\n",
    "cir = circuit(net.theta)\r\n",
    "cir.output('Question_1_Answer.txt')"
   ]
  },
  {
   "cell_type": "markdown",
   "metadata": {
    "collapsed": false
   },
   "source": [
    "### 第二题 双量子比特门分解"
   ]
  },
  {
   "cell_type": "code",
   "execution_count": null,
   "metadata": {
    "collapsed": false
   },
   "outputs": [],
   "source": [
    "n = 2\r\n",
    "target = np.loadtxt('/home/aistudio/data/target/Question_2_Unitary.txt')\r\n",
    "target_tensor = paddle.to_tensor(target)\r\n",
    "LR = 0.05\r\n",
    "ITR = 1000\r\n",
    "\r\n",
    "def circuit(theta):\r\n",
    "    # 初始化 n 个量子比特的量子电路\r\n",
    "    cir = MyCircuit(n)\r\n",
    "    cir.ry(theta[0], 0)\r\n",
    "    cir.ry(theta[1], 1)\r\n",
    "    cir.cnot([0, 1])\r\n",
    "    cir.ry(theta[2], 0)\r\n",
    "    cir.ry(theta[3], 1)\r\n",
    "    return cir"
   ]
  },
  {
   "cell_type": "code",
   "execution_count": null,
   "metadata": {
    "collapsed": false
   },
   "outputs": [],
   "source": [
    "net = Net(n, 4)\r\n",
    "opt = Optimizer(net, LR)\r\n",
    "opt.train(ITR, threshold=1e-15)\r\n",
    "\r\n",
    "theta_opt = net.theta.numpy()\r\n",
    "print(\"优化后的参数 theta:\\n\", theta_opt)\r\n",
    "\r\n",
    "cir = circuit(net.theta)\r\n",
    "cir.output('Question_2_Answer.txt')"
   ]
  },
  {
   "cell_type": "markdown",
   "metadata": {
    "collapsed": false
   },
   "source": [
    "### 第三题 三量子比特门分解"
   ]
  },
  {
   "cell_type": "code",
   "execution_count": null,
   "metadata": {
    "collapsed": false
   },
   "outputs": [],
   "source": [
    "n = 3\r\n",
    "target = np.loadtxt('/home/aistudio/data/target/Question_3_Unitary.txt')\r\n",
    "target_tensor = paddle.to_tensor(target)\r\n",
    "LR = 0.02\r\n",
    "ITR = 1000\r\n",
    "\r\n",
    "def circuit(theta):\r\n",
    "    # 初始化 n 个量子比特的量子电路\r\n",
    "    cir = MyCircuit(n)\r\n",
    "    cir.ry(theta[0], 0)\r\n",
    "    cir.ry(theta[1], 1)\r\n",
    "    cir.ry(theta[2], 2)\r\n",
    "    cir.cnot([0, 1])\r\n",
    "    cir.cnot([1, 2])\r\n",
    "    cir.ry(theta[3], 0)\r\n",
    "    cir.ry(theta[4], 2)\r\n",
    "    return cir"
   ]
  },
  {
   "cell_type": "code",
   "execution_count": null,
   "metadata": {
    "collapsed": false
   },
   "outputs": [],
   "source": [
    "net = Net(n, 5)\r\n",
    "opt = Optimizer(net, LR)\r\n",
    "opt.train(ITR, threshold=1e-15)\r\n",
    "\r\n",
    "theta_opt = net.theta.numpy()\r\n",
    "print(\"优化后的参数 theta:\\n\", theta_opt)\r\n",
    "\r\n",
    "cir = circuit(net.theta)\r\n",
    "cir.output('Question_3_Answer.txt')"
   ]
  },
  {
   "cell_type": "markdown",
   "metadata": {
    "collapsed": false
   },
   "source": [
    "### 可变量子电路类\n",
    "为了便于尝试不同的电路结构，定义可变量子电路类"
   ]
  },
  {
   "cell_type": "code",
   "execution_count": null,
   "metadata": {
    "collapsed": false
   },
   "outputs": [],
   "source": [
    "class VariableCircuit(MyCircuit):\r\n",
    "    def __init__(self, n, theta, controls=[]):\r\n",
    "        super().__init__(n)\r\n",
    "        self.controls = controls\r\n",
    "        self.init(theta)\r\n",
    "\r\n",
    "    def init(self, theta):\r\n",
    "        offset = 0\r\n",
    "        for i in range(self.n):\r\n",
    "            self.ry(theta[offset+i], i)\r\n",
    "        offset += self.n\r\n",
    "\r\n",
    "        for a, b in self.controls:\r\n",
    "            self.cnot([a, b])\r\n",
    "            self.ry(theta[offset+0], a)\r\n",
    "            self.ry(theta[offset+1], b)\r\n",
    "            offset += 2\r\n",
    "        self.params_size = offset"
   ]
  },
  {
   "cell_type": "markdown",
   "metadata": {
    "collapsed": false
   },
   "source": [
    "### 第四题 三量子比特门无结构分解\n",
    "这题可以使用暴力搜索找到最优结构  \n",
    "最后手动将结果里参数为2pi整数倍的旋转门删掉"
   ]
  },
  {
   "cell_type": "code",
   "execution_count": null,
   "metadata": {
    "collapsed": false
   },
   "outputs": [],
   "source": [
    "n = 3\r\n",
    "target = np.loadtxt('/home/aistudio/data/target/Question_4_Unitary.txt')\r\n",
    "target_tensor = paddle.to_tensor(target)\r\n",
    "LR = 1\r\n",
    "ITR = 500"
   ]
  },
  {
   "cell_type": "code",
   "execution_count": null,
   "metadata": {
    "collapsed": false
   },
   "outputs": [],
   "source": [
    "def circuit(theta):\r\n",
    "    conts = [(1,2), (1,2), (0,1), (0,2), (0,1)] #(0.9478)\r\n",
    "    cir = VariableCircuit(n, theta, conts)\r\n",
    "    return cir\r\n",
    "\r\n",
    "net = Net(n, 15)\r\n",
    "cir = circuit(net.theta)\r\n",
    "print(cir.complexity)\r\n",
    "opt = Optimizer(net, LR)\r\n",
    "opt.train(ITR, threshold=1e-10)"
   ]
  },
  {
   "cell_type": "code",
   "execution_count": null,
   "metadata": {
    "collapsed": false
   },
   "outputs": [],
   "source": [
    "theta_opt = net.theta.numpy()\r\n",
    "theta_opt = np.mod(theta_opt, 2 * np.pi)\r\n",
    "print(\"优化后的参数 theta:\\n\", theta_opt / np.pi)\r\n",
    "\r\n",
    "cir = circuit(net.theta)\r\n",
    "cir.output('Question_4_Answer.txt')"
   ]
  },
  {
   "cell_type": "markdown",
   "metadata": {
    "collapsed": false
   },
   "source": [
    "### 第五题 四量子比特门无结构分解\n",
    "这里使用的为之前一个版本参数，只在代码结构上进行了简化"
   ]
  },
  {
   "cell_type": "code",
   "execution_count": null,
   "metadata": {
    "collapsed": false
   },
   "outputs": [],
   "source": [
    "n = 4\r\n",
    "target = np.loadtxt('/home/aistudio/data/target/Question_5_Unitary.txt')\r\n",
    "target_tensor = paddle.to_tensor(target)\r\n",
    "LR = 1.0\r\n",
    "ITR = 1000"
   ]
  },
  {
   "cell_type": "code",
   "execution_count": null,
   "metadata": {
    "collapsed": false
   },
   "outputs": [],
   "source": [
    "def circuit(theta):\n",
    "    conts = [(1, 2)]\n",
    "    for i in range(7):\n",
    "        for j in range(i%2, n, 2):\n",
    "            conts.append((j%n, (j+1)%n))\n",
    "    conts.append((3, 0))\n",
    "    cir = VariableCircuit(n, theta, conts)\n",
    "    return cir"
   ]
  },
  {
   "cell_type": "code",
   "execution_count": 26,
   "metadata": {
    "collapsed": false
   },
   "outputs": [],
   "source": [
    "while 1:\r\n",
    "    net = Net(n, 36)\r\n",
    "    opt = Optimizer(net, LR)\r\n",
    "    l = opt.train(ITR)\r\n",
    "    if l < 0.25:\r\n",
    "        break"
   ]
  },
  {
   "cell_type": "code",
   "execution_count": 27,
   "metadata": {
    "collapsed": false
   },
   "outputs": [],
   "source": [
    "# 输出结果\r\n",
    "theta_opt = net.theta.numpy()\r\n",
    "print(\"优化后的参数 theta:\\n\", theta_opt)\r\n",
    "\r\n",
    "cir = circuit(net.theta)\r\n",
    "cir.output('Question_5_Answer.txt')"
   ]
  },
  {
   "cell_type": "markdown",
   "metadata": {
    "collapsed": false
   },
   "source": [
    "### 第六题 八量子比特门无结构分解\n",
    "暂时没找到好的解决方案"
   ]
  },
  {
   "cell_type": "markdown",
   "metadata": {
    "collapsed": false
   },
   "source": [
    "## 提交结果"
   ]
  },
  {
   "cell_type": "code",
   "execution_count": 28,
   "metadata": {
    "collapsed": false
   },
   "outputs": [],
   "source": [
    "!zip Answer.zip Question_?_Answer.txt"
   ]
  },
  {
   "cell_type": "markdown",
   "metadata": {
    "collapsed": false
   },
   "source": [
    "请点击[此处](https://ai.baidu.com/docs#/AIStudio_Project_Notebook/a38e5576)查看本环境基本用法.  <br>\n",
    "Please click [here ](https://ai.baidu.com/docs#/AIStudio_Project_Notebook/a38e5576) for more detailed instructions. "
   ]
  }
 ],
 "metadata": {
  "kernelspec": {
   "display_name": "PaddlePaddle 2.0.0b0 (Python 3.5)",
   "language": "python",
   "name": "py35-paddle1.2.0"
  },
  "language_info": {
   "codemirror_mode": {
    "name": "ipython",
    "version": 3
   },
   "file_extension": ".py",
   "mimetype": "text/x-python",
   "name": "python",
   "nbconvert_exporter": "python",
   "pygments_lexer": "ipython3",
   "version": "3.7.4"
  }
 },
 "nbformat": 4,
 "nbformat_minor": 1
}
